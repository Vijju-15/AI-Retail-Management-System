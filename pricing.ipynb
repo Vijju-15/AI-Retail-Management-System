{
 "cells": [
  {
   "cell_type": "code",
   "execution_count": 2,
   "id": "df48107a",
   "metadata": {},
   "outputs": [
    {
     "name": "stdout",
     "output_type": "stream",
     "text": [
      "✅ Saved as 'cleaned_pricing_dataset.csv'\n"
     ]
    }
   ],
   "source": [
    "import pandas as pd\n",
    "\n",
    "# Load original dataset\n",
    "df = pd.read_csv(\"retail_sales.csv\")\n",
    "\n",
    "# Filter out invalid rows (Units Sold must be > 0)\n",
    "df = df[df[\"Units_Sold\"] > 0]\n",
    "\n",
    "# Feature Engineering\n",
    "df[\"Price_Gap\"] = df[\"Price_INR\"] - df[\"Competitor_Pricing_INR\"]\n",
    "df[\"Price_Per_Unit\"] = df[\"Revenue_INR\"] / df[\"Units_Sold\"]\n",
    "df[\"Discount_Effectiveness\"] = df[\"Units_Sold\"] / (df[\"Discount_%\"] + 1)\n",
    "\n",
    "# Select only relevant columns for pricing model\n",
    "pricing_df = df[[\n",
    "    \"Product_ID\", \"Brand\", \"Category\", \"Region\",\n",
    "    \"Price_INR\", \"Discount_%\", \"Competitor_Pricing_INR\",\n",
    "    \"Price_Gap\", \"Price_Per_Unit\", \"Discount_Effectiveness\",\n",
    "    \"Holiday_Promotion\", \"Weather_Condition\", \"Customer_Type\",\n",
    "    \"Loyalty_Score\", \"Inventory_Level\", \"Units_Sold\"  # Target\n",
    "]]\n",
    "\n",
    "# Save to CSV\n",
    "pricing_df.to_csv(\"cleaned_pricing_dataset.csv\", index=False)\n",
    "print(\"✅ Saved as 'cleaned_pricing_dataset.csv'\")\n"
   ]
  },
  {
   "cell_type": "code",
   "execution_count": 3,
   "id": "8e0b9909",
   "metadata": {},
   "outputs": [
    {
     "name": "stdout",
     "output_type": "stream",
     "text": [
      "[0]\teval-rmse:8.94878\n",
      "[50]\teval-rmse:1.21113\n",
      "[100]\teval-rmse:0.57962\n",
      "[150]\teval-rmse:0.52859\n",
      "[200]\teval-rmse:0.51638\n",
      "[250]\teval-rmse:0.50931\n",
      "[289]\teval-rmse:0.50627\n",
      "📊 MAE: 0.24222524464130402\n",
      "📉 RMSE: 0.5062692520813676\n"
     ]
    }
   ],
   "source": [
    "import pandas as pd\n",
    "import xgboost as xgb\n",
    "from sklearn.model_selection import train_test_split\n",
    "from sklearn.metrics import mean_absolute_error, mean_squared_error\n",
    "from sklearn.preprocessing import LabelEncoder\n",
    "import numpy as np\n",
    "\n",
    "# Load cleaned dataset\n",
    "df = pd.read_csv(\"cleaned_pricing_dataset.csv\")\n",
    "\n",
    "# Encode categorical variables\n",
    "categorical_cols = [\"Product_ID\", \"Brand\", \"Category\", \"Region\",\n",
    "                    \"Holiday_Promotion\", \"Weather_Condition\", \"Customer_Type\"]\n",
    "\n",
    "label_encoders = {}\n",
    "for col in categorical_cols:\n",
    "    le = LabelEncoder()\n",
    "    df[col] = le.fit_transform(df[col])\n",
    "    label_encoders[col] = le\n",
    "\n",
    "# Features & Target\n",
    "X = df.drop(\"Units_Sold\", axis=1)\n",
    "y = df[\"Units_Sold\"]\n",
    "\n",
    "# Train/Test Split\n",
    "X_train, X_test, y_train, y_test = train_test_split(X, y, test_size=0.2, random_state=42)\n",
    "\n",
    "# Convert to DMatrix for older XGBoost support\n",
    "dtrain = xgb.DMatrix(X_train, label=y_train)\n",
    "dtest = xgb.DMatrix(X_test, label=y_test)\n",
    "\n",
    "# Parameters\n",
    "params = {\n",
    "    \"objective\": \"reg:squarederror\",\n",
    "    \"learning_rate\": 0.1,\n",
    "    \"max_depth\": 6,\n",
    "    \"subsample\": 0.8,\n",
    "    \"colsample_bytree\": 0.8,\n",
    "    \"eval_metric\": \"rmse\"\n",
    "}\n",
    "\n",
    "# Train model\n",
    "model = xgb.train(\n",
    "    params=params,\n",
    "    dtrain=dtrain,\n",
    "    num_boost_round=500,\n",
    "    evals=[(dtest, \"eval\")],\n",
    "    early_stopping_rounds=20,\n",
    "    verbose_eval=50\n",
    ")\n",
    "\n",
    "# Predict\n",
    "y_pred = model.predict(dtest)\n",
    "\n",
    "# Evaluation\n",
    "mae = mean_absolute_error(y_test, y_pred)\n",
    "rmse = np.sqrt(mean_squared_error(y_test, y_pred))\n",
    "\n",
    "print(\"📊 MAE:\", mae)\n",
    "print(\"📉 RMSE:\", rmse)\n"
   ]
  },
  {
   "cell_type": "code",
   "execution_count": 4,
   "id": "cdc3566a",
   "metadata": {},
   "outputs": [],
   "source": [
    "def simulate_optimal_price_discount(row, model, price_range, discount_range, feature_names):\n",
    "    best_revenue = -np.inf\n",
    "    best_combo = (row[\"Price_INR\"], row[\"Discount_%\"])\n",
    "\n",
    "    for price in price_range:\n",
    "        for discount in discount_range:\n",
    "            temp = row.copy()\n",
    "            temp[\"Price_INR\"] = price\n",
    "            temp[\"Discount_%\"] = discount\n",
    "            temp[\"Price_Gap\"] = price - temp[\"Competitor_Pricing_INR\"]\n",
    "            temp[\"Price_Per_Unit\"] = price\n",
    "            temp[\"Discount_Effectiveness\"] = 1 / (discount + 1)\n",
    "\n",
    "            temp = temp[feature_names].values.reshape(1, -1)\n",
    "            temp_dmatrix = xgb.DMatrix(temp, feature_names=feature_names)\n",
    "            units_pred = model.predict(temp_dmatrix)[0]\n",
    "            revenue = price * units_pred\n",
    "\n",
    "            if revenue > best_revenue:\n",
    "                best_revenue = revenue\n",
    "                best_combo = (price, discount)\n",
    "\n",
    "    return best_combo[0], best_combo[1], best_revenue\n"
   ]
  },
  {
   "cell_type": "code",
   "execution_count": 5,
   "id": "97a648a4",
   "metadata": {},
   "outputs": [
    {
     "name": "stdout",
     "output_type": "stream",
     "text": [
      "✅ Optimal Price: 185\n",
      "💸 Optimal Discount: 16\n",
      "📈 Expected Max Revenue: 540.3726065158844\n"
     ]
    }
   ],
   "source": [
    "row = df.iloc[0]  # Pick any row\n",
    "feature_names = list(X.columns)  # Same as model training\n",
    "\n",
    "best_price, best_discount, max_revenue = simulate_optimal_price_discount(\n",
    "    row, model,\n",
    "    price_range=np.arange(10, 200, 5),\n",
    "    discount_range=np.arange(0, 30, 2),\n",
    "    feature_names=feature_names\n",
    ")\n",
    "\n",
    "print(\"✅ Optimal Price:\", best_price)\n",
    "print(\"💸 Optimal Discount:\", best_discount)\n",
    "print(\"📈 Expected Max Revenue:\", max_revenue)\n"
   ]
  },
  {
   "cell_type": "code",
   "execution_count": 2,
   "id": "5a26b15b",
   "metadata": {},
   "outputs": [
    {
     "name": "stdout",
     "output_type": "stream",
     "text": [
      "[0]\tvalidation_0-rmse:0.65573\n",
      "[50]\tvalidation_0-rmse:0.65957\n",
      "[100]\tvalidation_0-rmse:0.66398\n",
      "[150]\tvalidation_0-rmse:0.66647\n",
      "[200]\tvalidation_0-rmse:0.66940\n",
      "[250]\tvalidation_0-rmse:0.67346\n",
      "[300]\tvalidation_0-rmse:0.67682\n",
      "[350]\tvalidation_0-rmse:0.67906\n",
      "[400]\tvalidation_0-rmse:0.68244\n",
      "[450]\tvalidation_0-rmse:0.68480\n",
      "[499]\tvalidation_0-rmse:0.68694\n",
      "\n",
      "📊 MAE: 8.596517083965814\n",
      "📉 RMSE: 10.760037191782862\n",
      "✅ Model and encoders saved.\n"
     ]
    }
   ],
   "source": [
    "import pandas as pd\n",
    "import numpy as np\n",
    "from xgboost import XGBRegressor\n",
    "from sklearn.model_selection import train_test_split\n",
    "from sklearn.metrics import mean_absolute_error, mean_squared_error\n",
    "from sklearn.preprocessing import LabelEncoder\n",
    "from joblib import dump\n",
    "\n",
    "# 📥 Load dataset\n",
    "df = pd.read_csv(\"cleaned_pricing_dataset.csv\")\n",
    "\n",
    "# 🧠 Encode categorical columns\n",
    "cat_cols = [\"Product_ID\", \"Brand\", \"Category\", \"Region\", \"Holiday_Promotion\", \"Weather_Condition\", \"Customer_Type\"]\n",
    "label_encoders = {}\n",
    "for col in cat_cols:\n",
    "    le = LabelEncoder()\n",
    "    df[col] = le.fit_transform(df[col])\n",
    "    label_encoders[col] = le\n",
    "\n",
    "# ⚙️ Feature engineering\n",
    "df[\"Price_Gap\"] = df[\"Price_INR\"] - df[\"Competitor_Pricing_INR\"]\n",
    "df[\"Price_Per_Unit\"] = df[\"Price_INR\"]\n",
    "df[\"Discount_Effectiveness\"] = 1 / (df[\"Discount_%\"] + 1)\n",
    "df[\"Price_Discount_Interaction\"] = df[\"Price_INR\"] * (1 - df[\"Discount_%\"] / 100)\n",
    "\n",
    "# 🔍 Optional: Keep top-selling products only\n",
    "top_products = df.groupby(\"Product_ID\")[\"Units_Sold\"].sum().sort_values(ascending=False).head(20).index\n",
    "df = df[df[\"Product_ID\"].isin(top_products)]\n",
    "\n",
    "# 🧾 Feature selection\n",
    "features = [\n",
    "    'Product_ID', 'Brand', 'Category', 'Region', 'Price_INR', 'Discount_%',\n",
    "    'Competitor_Pricing_INR', 'Price_Gap', 'Price_Per_Unit',\n",
    "    'Discount_Effectiveness', 'Holiday_Promotion', 'Weather_Condition',\n",
    "    'Customer_Type', 'Loyalty_Score', 'Inventory_Level', 'Price_Discount_Interaction'\n",
    "]\n",
    "X = df[features]\n",
    "y = np.log1p(df[\"Units_Sold\"])  # log-transform target for stability\n",
    "\n",
    "# 🧪 Train-test split\n",
    "X_train, X_test, y_train, y_test = train_test_split(X, y, test_size=0.2, random_state=42)\n",
    "\n",
    "# 🧠 Define model\n",
    "model = XGBRegressor(\n",
    "    objective=\"reg:squarederror\",\n",
    "    learning_rate=0.1,\n",
    "    max_depth=6,\n",
    "    subsample=0.8,\n",
    "    colsample_bytree=0.8,\n",
    "    n_estimators=500\n",
    ")\n",
    "\n",
    "# 🚀 Train model (without early_stopping)\n",
    "model.fit(X_train, y_train, eval_set=[(X_test, y_test)], verbose=50)\n",
    "\n",
    "# 📈 Evaluate\n",
    "y_pred = np.expm1(model.predict(X_test))  # reverse log1p\n",
    "y_true = np.expm1(y_test)\n",
    "\n",
    "print(\"\\n📊 MAE:\", mean_absolute_error(y_true, y_pred))\n",
    "print(\"📉 RMSE:\", np.sqrt(mean_squared_error(y_true, y_pred)))\n",
    "\n",
    "# 💾 Save model and encoders\n",
    "dump(model, \"xgb_pricing_model.joblib\")\n",
    "dump(label_encoders, \"label_encoders.pkl\")\n",
    "print(\"✅ Model and encoders saved.\")\n"
   ]
  },
  {
   "cell_type": "code",
   "execution_count": null,
   "id": "6b2d7459",
   "metadata": {},
   "outputs": [
    {
     "name": "stderr",
     "output_type": "stream",
     "text": [
      "100%|██████████| 100000/100000 [1:03:02<00:00, 26.44it/s] \n"
     ]
    },
    {
     "name": "stdout",
     "output_type": "stream",
     "text": [
      "✅ Optimization saved to optimized_dynamic_pricing.csv\n"
     ]
    },
    {
     "ename": "",
     "evalue": "",
     "output_type": "error",
     "traceback": [
      "\u001b[1;31mThe Kernel crashed while executing code in the current cell or a previous cell. \n",
      "\u001b[1;31mPlease review the code in the cell(s) to identify a possible cause of the failure. \n",
      "\u001b[1;31mClick <a href='https://aka.ms/vscodeJupyterKernelCrash'>here</a> for more info. \n",
      "\u001b[1;31mView Jupyter <a href='command:jupyter.viewOutput'>log</a> for further details."
     ]
    }
   ],
   "source": [
    "import pandas as pd\n",
    "import numpy as np\n",
    "from joblib import load\n",
    "from tqdm import tqdm\n",
    "\n",
    "# Load model and encoders\n",
    "model = load(\"xgb_pricing_model.joblib\")\n",
    "label_encoders = load(\"label_encoders.pkl\")\n",
    "\n",
    "# Load and encode\n",
    "df = pd.read_csv(\"cleaned_pricing_dataset.csv\")\n",
    "cat_cols = [\"Product_ID\", \"Brand\", \"Category\", \"Region\", \"Holiday_Promotion\", \"Weather_Condition\", \"Customer_Type\"]\n",
    "for col in cat_cols:\n",
    "    df[col] = label_encoders[col].transform(df[col])\n",
    "\n",
    "# Feature engineering\n",
    "df[\"Price_Gap\"] = df[\"Price_INR\"] - df[\"Competitor_Pricing_INR\"]\n",
    "df[\"Price_Per_Unit\"] = df[\"Price_INR\"]\n",
    "df[\"Discount_Effectiveness\"] = 1 / (df[\"Discount_%\"] + 1)\n",
    "df[\"Price_Discount_Interaction\"] = df[\"Price_INR\"] * (1 - df[\"Discount_%\"] / 100)\n",
    "\n",
    "features = [\n",
    "    'Product_ID', 'Brand', 'Category', 'Region', 'Price_INR', 'Discount_%',\n",
    "    'Competitor_Pricing_INR', 'Price_Gap', 'Price_Per_Unit',\n",
    "    'Discount_Effectiveness', 'Holiday_Promotion', 'Weather_Condition',\n",
    "    'Customer_Type', 'Loyalty_Score', 'Inventory_Level', 'Price_Discount_Interaction'\n",
    "]\n",
    "\n",
    "# Price & discount grid\n",
    "price_grid = np.arange(10, 200, 5)\n",
    "discount_grid = np.arange(0, 30, 2)\n",
    "\n",
    "results = []\n",
    "\n",
    "for _, row in tqdm(df.iterrows(), total=len(df)):\n",
    "    grid = pd.DataFrame([(p, d) for p in price_grid for d in discount_grid], columns=[\"Price_INR\", \"Discount_%\"])\n",
    "    base = pd.DataFrame([row] * len(grid)).reset_index(drop=True)\n",
    "    base[\"Price_INR\"] = grid[\"Price_INR\"]\n",
    "    base[\"Discount_%\"] = grid[\"Discount_%\"]\n",
    "    base[\"Price_Gap\"] = base[\"Price_INR\"] - base[\"Competitor_Pricing_INR\"]\n",
    "    base[\"Price_Per_Unit\"] = base[\"Price_INR\"]\n",
    "    base[\"Discount_Effectiveness\"] = 1 / (base[\"Discount_%\"] + 1)\n",
    "    base[\"Price_Discount_Interaction\"] = base[\"Price_INR\"] * (1 - base[\"Discount_%\"] / 100)\n",
    "\n",
    "    preds = model.predict(base[features])\n",
    "    units_pred = np.expm1(preds)\n",
    "    revenue = base[\"Price_INR\"] * units_pred\n",
    "\n",
    "    best = revenue.idxmax()\n",
    "    results.append({\n",
    "        \"Product_ID\": int(row[\"Product_ID\"]),\n",
    "        \"Brand\": int(row[\"Brand\"]),\n",
    "        \"Category\": int(row[\"Category\"]),\n",
    "        \"Region\": int(row[\"Region\"]),\n",
    "        \"Optimal_Price\": round(base.loc[best, \"Price_INR\"], 2),\n",
    "        \"Optimal_Discount\": round(base.loc[best, \"Discount_%\"], 2),\n",
    "        \"Predicted_Revenue\": round(revenue[best], 2)\n",
    "    })\n",
    "\n",
    "# Save results\n",
    "results_df = pd.DataFrame(results)\n",
    "results_df.to_csv(\"optimized_dynamic_pricing.csv\", index=False)\n",
    "print(\"✅ Optimization saved to optimized_dynamic_pricing.csv\")\n"
   ]
  },
  {
   "cell_type": "code",
   "execution_count": 9,
   "id": "9599e861",
   "metadata": {},
   "outputs": [
    {
     "name": "stdout",
     "output_type": "stream",
     "text": [
      "✅ Label encoders saved as: label_encoders.pkl\n"
     ]
    }
   ],
   "source": [
    "joblib.dump(label_encoders, \"label_encoders.pkl\")\n",
    "print(\"✅ Label encoders saved as: label_encoders.pkl\")\n",
    "import joblib"
   ]
  },
  {
   "cell_type": "code",
   "execution_count": null,
   "id": "de949897",
   "metadata": {},
   "outputs": [],
   "source": []
  }
 ],
 "metadata": {
  "kernelspec": {
   "display_name": "Python (my_env)",
   "language": "python",
   "name": "my_env"
  },
  "language_info": {
   "codemirror_mode": {
    "name": "ipython",
    "version": 3
   },
   "file_extension": ".py",
   "mimetype": "text/x-python",
   "name": "python",
   "nbconvert_exporter": "python",
   "pygments_lexer": "ipython3",
   "version": "3.11.11"
  }
 },
 "nbformat": 4,
 "nbformat_minor": 5
}
